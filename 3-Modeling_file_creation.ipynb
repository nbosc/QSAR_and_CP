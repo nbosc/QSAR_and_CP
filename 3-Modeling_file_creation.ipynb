{
 "cells": [
  {
   "cell_type": "markdown",
   "metadata": {},
   "source": [
    "## For each ChEMBL target, will create a pickle data file ready for modelling \n",
    "### NB: To be executed somewhere accessible by the training part or transfer later on\n",
    "\n",
    "#### Notebook meant to be exported as .py"
   ]
  },
  {
   "cell_type": "code",
   "execution_count": 2,
   "metadata": {},
   "outputs": [],
   "source": [
    "import pandas as pd\n",
    "\n",
    "from sys import argv\n",
    "\n",
    "import pickle\n",
    "\n",
    "from sklearn.preprocessing import MinMaxScaler\n",
    "from sklearn.metrics import matthews_corrcoef as mcc, confusion_matrix, make_scorer\n",
    "from sklearn.model_selection import train_test_split, GridSearchCV\n",
    "\n",
    "import warnings\n",
    "warnings.filterwarnings('ignore')\n",
    "\n",
    "from pathlib import Path\n",
    "import os"
   ]
  },
  {
   "cell_type": "code",
   "execution_count": null,
   "metadata": {},
   "outputs": [],
   "source": [
    "if __name__ == '__main__':\n",
    "    path, activity_file, fp_file, default_dir = argv\n",
    "\n",
    "    if not os.path.exists(default_dir):\n",
    "        os.makedirs(default_dir)\n",
    "    \n",
    "     # activity_file contains the activities that have been retained for modeling. It also contains 6 physico-chemical descriptors\n",
    "    df_dataset = pd.read_excel(activity_file)\n",
    "    \n",
    "    # fp_file contains the fingerprints for the mols in activity_file\n",
    "    df_mols = pickle.load(open(fp_file, 'rb'))\n",
    "\n",
    "\n",
    "    for t in df_dataset.target_chemblid.unique():\n",
    "        \n",
    "        # isolate only the data related to the target t\n",
    "        df_to_scale =  df_dataset.loc[df_dataset.target_chemblid == t].merge(df_mols[['usmiles', 'FP', 'logp', 'mwt', 'hbd', 'hba', 'rtb', 'tpsa']], on = 'usmiles')\n",
    "        \n",
    "        ### Scale the physicol-chemical descriptors\n",
    "        # scale the physico-chemical descriptors to be between 0 and 1\n",
    "        scaler = MinMaxScaler()\n",
    "\n",
    "        df_scaled = pd.DataFrame(scaler.fit_transform(df_to_scale[['logp', 'mwt', 'hbd', 'hba', 'rtb', 'tpsa']]), columns=df_mols[['logp', 'mwt', 'hbd', 'hba', 'rtb', 'tpsa']].columns)\n",
    "\n",
    "        df_prot = pd.concat([df_to_scale.drop(['logp', 'mwt', 'hbd', 'hba', 'rtb', 'tpsa'], axis = 1), df_scaled], axis=1)\n",
    "        \n",
    "        print(t)\n",
    "        print(df_prot.shape)\n",
    "\n",
    "        if not os.path.exists(default_dir+'/'+t):\n",
    "            os.makedirs(default_dir+'/'+t)\n",
    "        \n",
    "        df_prot_filename = default_dir+'/'+t+'/'+t+'.pkl'\n",
    "        pickle.dump(df_prot, open(df_prot_filename, 'wb'))\n",
    "        \n",
    "        # Export the scaler to scale new compound to test\n",
    "        pickle.dump(scaler, open(default_dir+'/'+t+'/'+t+'_scaler.pkl', 'wb'))\n",
    "            \n",
    "    "
   ]
  }
 ],
 "metadata": {
  "anaconda-cloud": {},
  "kernelspec": {
   "display_name": "Python 3",
   "language": "python",
   "name": "python3"
  },
  "language_info": {
   "codemirror_mode": {
    "name": "ipython",
    "version": 3
   },
   "file_extension": ".py",
   "mimetype": "text/x-python",
   "name": "python",
   "nbconvert_exporter": "python",
   "pygments_lexer": "ipython3",
   "version": "3.6.5"
  }
 },
 "nbformat": 4,
 "nbformat_minor": 1
}
