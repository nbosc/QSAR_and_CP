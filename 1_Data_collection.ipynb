{
 "cells": [
  {
   "cell_type": "markdown",
   "metadata": {
    "collapsed": true
   },
   "source": [
    "## Workflow to select modelling data (inspired from Lenselink et _al._ J Cheminform 2017 9:45)\n",
    "#### NB: requires a local installation of ChEMBL (Oracle here). Works with ChEMBL_23 but should work witht the following releases."
   ]
  },
  {
   "cell_type": "code",
   "execution_count": 153,
   "metadata": {},
   "outputs": [],
   "source": [
    "from sqlalchemy import create_engine\n",
    "\n",
    "import pandas as pd\n",
    "import numpy as np\n",
    "\n",
    "from utils import selected_prot_each_step, usmiles"
   ]
  },
  {
   "cell_type": "code",
   "execution_count": 3,
   "metadata": {},
   "outputs": [],
   "source": [
    "pd.options.display.max_rows = 100\n",
    "pd.options.display.max_colwidth = 1000"
   ]
  },
  {
   "cell_type": "markdown",
   "metadata": {},
   "source": [
    "## Database connexion"
   ]
  },
  {
   "cell_type": "code",
   "execution_count": 4,
   "metadata": {},
   "outputs": [],
   "source": [
    "# Personal login details in correct format for sqlalchemy\n",
    "\n",
    "with open('/Users/nbosc/notebooks/alchemy_nbosc_login.txt', 'r') as f:\n",
    "    engine = create_engine(f.read())"
   ]
  },
  {
   "cell_type": "markdown",
   "metadata": {},
   "source": [
    "## Collect the bioactivities containing actives<br>\n",
    "- From the scientific literature\n",
    "- From the pharmalogical set of DruxMatrix\n"
   ]
  },
  {
   "cell_type": "code",
   "execution_count": 13,
   "metadata": {},
   "outputs": [],
   "source": [
    "sql = '''\n",
    "-- Literature data\n",
    "SELECT a.doc_id\n",
    "    , h.year\n",
    "    , a.pchembl_value\n",
    "    , e.canonical_smiles\n",
    "    , c.chembl_id as mol_chemblid\n",
    "    , g.chembl_id as target_chemblid\n",
    "    , g.pref_name\n",
    "    , g.target_type\n",
    "FROM\n",
    "  CHEMBL_23.ACTIVITIES a JOIN CHEMBL_23.MOLECULE_HIERARCHY b ON a.MOLREGNO = b.MOLREGNO\n",
    "  JOIN CHEMBL_23.MOLECULE_DICTIONARY c ON b.PARENT_MOLREGNO = c.MOLREGNO\n",
    "  JOIN CHEMBL_23.COMPOUND_PROPERTIES d ON b.PARENT_MOLREGNO = d.MOLREGNO\n",
    "  JOIN CHEMBL_23.COMPOUND_STRUCTURES e ON b.PARENT_MOLREGNO = e.MOLREGNO\n",
    "  JOIN CHEMBL_23.ASSAYS f ON a.ASSAY_ID = f.ASSAY_ID\n",
    "  JOIN CHEMBL_23.TARGET_DICTIONARY g ON f.TID = g.TID\n",
    "  JOIN CHEMBL_23.DOCS h ON a.DOC_ID = h.DOC_ID\n",
    "WHERE\n",
    "   a.pchembl_value IS NOT NULL\n",
    "  AND (a.potential_duplicate = 0 OR a.potential_duplicate IS NULL)\n",
    "  AND a.data_validity_comment IS NULL\n",
    "  AND (\n",
    "  (f.confidence_score = 9 AND g.target_type = 'SINGLE PROTEIN')\n",
    "  OR\n",
    "  (f.confidence_score = 7 AND g.target_type = 'PROTEIN COMPLEX')\n",
    "  )\n",
    "  AND f.src_id = 1\n",
    "  AND (NOT (a.activity_comment LIKE 'inconclusive' OR a.activity_comment LIKE 'undetermined')\n",
    "      OR a.activity_comment IS NULL)\n",
    "  AND d.psa IS NOT NULL -- if this descriptor cannot be calculated, it is usually a signal that the molecule fill fail somehow later\n",
    "\n",
    "UNION ALL\n",
    "-- DrugMatrix data\n",
    "SELECT a.doc_id\n",
    "    , h.year\n",
    "    , case when a.pchembl_value is null then 4.0 else a.pchembl_value end\n",
    "    , e.canonical_smiles\n",
    "    , c.chembl_id as mol_chemblid\n",
    "    , g.chembl_id as target_chemblid\n",
    "    , g.pref_name\n",
    "    , g.target_type\n",
    "FROM\n",
    "  CHEMBL_23.ACTIVITIES a JOIN CHEMBL_23.MOLECULE_HIERARCHY b ON a.MOLREGNO = b.MOLREGNO\n",
    "  JOIN CHEMBL_23.MOLECULE_DICTIONARY c ON b.PARENT_MOLREGNO = c.MOLREGNO\n",
    "  JOIN CHEMBL_23.COMPOUND_PROPERTIES d ON b.PARENT_MOLREGNO = d.MOLREGNO\n",
    "  JOIN CHEMBL_23.COMPOUND_STRUCTURES e ON b.PARENT_MOLREGNO = e.MOLREGNO\n",
    "  JOIN CHEMBL_23.ASSAYS f ON a.ASSAY_ID = f.ASSAY_ID\n",
    "  JOIN CHEMBL_23.TARGET_DICTIONARY g ON f.TID = g.TID\n",
    "  JOIN CHEMBL_23.DOCS h ON a.DOC_ID = h.DOC_ID\n",
    "WHERE\n",
    "    f.src_id = 15 -- drugmatrix\n",
    "    AND g.target_type IN ('SINGLE PROTEIN', 'PROTEIN COMPLEX')\n",
    "    AND a.standard_type = 'IC50'\n",
    "    AND d.PSA IS NOT NULL\n",
    "  '''\n",
    "df = pd.read_sql(sql, engine)"
   ]
  },
  {
   "cell_type": "code",
   "execution_count": 14,
   "metadata": {},
   "outputs": [
    {
     "data": {
      "text/plain": [
       "(656263, 8)"
      ]
     },
     "execution_count": 14,
     "metadata": {},
     "output_type": "execute_result"
    }
   ],
   "source": [
    "df.shape"
   ]
  },
  {
   "cell_type": "markdown",
   "metadata": {},
   "source": [
    "### Split activities and molecule structures "
   ]
  },
  {
   "cell_type": "markdown",
   "metadata": {},
   "source": [
    "#### Molecules "
   ]
  },
  {
   "cell_type": "code",
   "execution_count": 15,
   "metadata": {},
   "outputs": [],
   "source": [
    "df_mols = df[['mol_chemblid', 'canonical_smiles']].drop_duplicates()"
   ]
  },
  {
   "cell_type": "markdown",
   "metadata": {},
   "source": [
    "#### Activities "
   ]
  },
  {
   "cell_type": "code",
   "execution_count": 16,
   "metadata": {},
   "outputs": [],
   "source": [
    "df_act = df[['doc_id', 'year', 'pchembl_value', 'mol_chemblid', 'target_chemblid', 'pref_name', 'target_type']]"
   ]
  },
  {
   "cell_type": "markdown",
   "metadata": {},
   "source": [
    "### Generate stereo free smiles (USMILES) <br>\n",
    "Stereochenistry is an aspect of the molecule very important. Indeed, for a given chiral molecule, one stereoisomer might be a potent inhibitor when the other one is completly inactive.<br>\n",
    "However, the morgan fingerprint does not take into account this property of the molecules. A flag can be activated but a quick analysis shows that the resulting similarity measurements are odd<br>\n",
    "Therefore, in this work, two stereoisomers are considered as the same molecule"
   ]
  },
  {
   "cell_type": "code",
   "execution_count": 17,
   "metadata": {},
   "outputs": [
    {
     "name": "stdout",
     "output_type": "stream",
     "text": [
      "Molecules RDKIT cannot proceed: 2\n",
      "Molcules to generate usmiles: 293021\n",
      "Fail to generate usmiles: 0\n"
     ]
    }
   ],
   "source": [
    "df_mols, failed1, failed2 = usmiles(df_mols, 'canonical_smiles')"
   ]
  },
  {
   "cell_type": "markdown",
   "metadata": {},
   "source": [
    "## Remove activity duplicates<br>\n",
    "### If several datapoints associated to pair protein-ligand, keep the median value and remove duplicates "
   ]
  },
  {
   "cell_type": "code",
   "execution_count": 18,
   "metadata": {},
   "outputs": [
    {
     "data": {
      "text/plain": [
       "(656263, 7)"
      ]
     },
     "execution_count": 18,
     "metadata": {},
     "output_type": "execute_result"
    }
   ],
   "source": [
    "df_act.shape"
   ]
  },
  {
   "cell_type": "markdown",
   "metadata": {},
   "source": [
    "#### Get back the usmiles. It acts as unique identifier for molecules "
   ]
  },
  {
   "cell_type": "code",
   "execution_count": 19,
   "metadata": {},
   "outputs": [],
   "source": [
    "df_act = df_act.merge(df_mols[['mol_chemblid', 'usmiles']], on = 'mol_chemblid')"
   ]
  },
  {
   "cell_type": "markdown",
   "metadata": {},
   "source": [
    "#### Need to define a year for DrugMatrix data other groupby will get rid of these data "
   ]
  },
  {
   "cell_type": "code",
   "execution_count": 20,
   "metadata": {},
   "outputs": [],
   "source": [
    "df_act = df_act.fillna(2011.0)"
   ]
  },
  {
   "cell_type": "markdown",
   "metadata": {},
   "source": [
    "#### Calculate the median value for pchembls. For doc_id (will be used for diversity) and year (will be used for temporal split) we keep the first occurence and the oldest year respectively "
   ]
  },
  {
   "cell_type": "code",
   "execution_count": 21,
   "metadata": {},
   "outputs": [],
   "source": [
    "def fun(x):\n",
    "    names = {\n",
    "        'pchembl_median': x['pchembl_value'].median()\n",
    "        , 'doc_id': x.iloc[0]['doc_id']\n",
    "        , 'year': x['year'].min()\n",
    "    }\n",
    "    return(pd.Series(names, index = ['pchembl_median', 'doc_id', 'year']))\n",
    "df_act_u = df_act.groupby(['target_chemblid', 'pref_name', 'target_type', 'usmiles']).apply(fun).reset_index()"
   ]
  },
  {
   "cell_type": "markdown",
   "metadata": {},
   "source": [
    "## The active/inactive split is done using [IDG](https://druggablegenome.net/ProteinFam) thresholds which distinguish few protein families"
   ]
  },
  {
   "cell_type": "markdown",
   "metadata": {},
   "source": [
    "### IDG thresholds<br>\n",
    "Active /inactive categorisation is based on IDG activity threshold:\n",
    "\n",
    "- Kinases: <= 30nM (>= 7.5 pchembl_value)\n",
    "- GPCRs: <= 100nM (>= 7 pchembl_value)\n",
    "- Nuclear Receptors: <= 100nM (>= 7 pchembl_value)\n",
    "- Ion Channels: <= 10μM (>= 5 pchembl_value)\n",
    "- Non-IDG Family Targets: <= 1μM (>= 6 pchembl_value)\n"
   ]
  },
  {
   "cell_type": "code",
   "execution_count": 22,
   "metadata": {},
   "outputs": [],
   "source": [
    "target_active_threshold = pd.DataFrame({'activity_threshold': [7.5, 7, 7, 7, 7, 5, 5, 5, 6], 'target_class': ['Enzyme > Kinase > Protein Kinase'\n",
    "                                                                                                ,'Membrane receptor > Family A G protein-coupled receptor'\n",
    "                                                                                                ,'Membrane receptor > Family B G protein-coupled receptor'\n",
    "                                                                                                ,'Membrane receptor > Family C G protein-coupled receptor'\n",
    "                                                                                                ,'Transcription factor > Nuclear receptor'\n",
    "                                                                                                ,'Ion channel > Ligand-gated ion channel'\n",
    "                                                                                                ,'Ion channel > Voltage-gated ion channel'\n",
    "                                                                                                ,'Ion channel > Other ion channel'\n",
    "                                                                                                ,'Others']})"
   ]
  },
  {
   "cell_type": "markdown",
   "metadata": {},
   "source": [
    "### Load fixed target classification\n",
    "List was adapted from ChEMBL target classification to make it simpler and keep one family per target"
   ]
  },
  {
   "cell_type": "code",
   "execution_count": 23,
   "metadata": {},
   "outputs": [],
   "source": [
    "df_class = pd.read_excel('target_class_fixed.xls')"
   ]
  },
  {
   "cell_type": "markdown",
   "metadata": {},
   "source": [
    "#### Get the target class from each protein with activities "
   ]
  },
  {
   "cell_type": "code",
   "execution_count": 24,
   "metadata": {},
   "outputs": [],
   "source": [
    "df_act_unique = df_act_u.merge(df_class[['target_chemblid', 'target_class', 'organism']], on = 'target_chemblid')"
   ]
  },
  {
   "cell_type": "markdown",
   "metadata": {},
   "source": [
    "#### Few protein are lost at this stage because they don't have a target class"
   ]
  },
  {
   "cell_type": "markdown",
   "metadata": {},
   "source": [
    "#### Merge the activities with the thresholds\n",
    "#### Protein families with no specific threshold have a default threshold "
   ]
  },
  {
   "cell_type": "code",
   "execution_count": 25,
   "metadata": {},
   "outputs": [],
   "source": [
    "df_act_unique = df_act_unique.merge(target_active_threshold, on='target_class', how='left').fillna(float(target_active_threshold.loc[target_active_threshold.target_class == 'Others']['activity_threshold']))"
   ]
  },
  {
   "cell_type": "markdown",
   "metadata": {},
   "source": [
    "### Distinguish active/inactive by comparing the median of the pchembl value with the threshold "
   ]
  },
  {
   "cell_type": "code",
   "execution_count": 26,
   "metadata": {},
   "outputs": [],
   "source": [
    "df_act_unique['activity_class'] = np.where(df_act_unique['pchembl_median'] >= df_act_unique['activity_threshold'], 'active', 'inactive')"
   ]
  },
  {
   "cell_type": "markdown",
   "metadata": {},
   "source": [
    "## Now actives are precisely defined, select only targets with enough data for modelling\n",
    "### Remove targets if they have less than 40 actives"
   ]
  },
  {
   "cell_type": "code",
   "execution_count": 27,
   "metadata": {},
   "outputs": [],
   "source": [
    "dfm2 = pd.DataFrame(df_act_unique.groupby(['target_chemblid', 'activity_class'])['usmiles'].nunique()).reset_index()\n",
    "\n",
    "dfm3 = dfm2[(dfm2['usmiles'] >= 40) & (dfm2['activity_class']=='active')].reset_index()"
   ]
  },
  {
   "cell_type": "code",
   "execution_count": 29,
   "metadata": {},
   "outputs": [],
   "source": [
    "df_act_unique2 = df_act_unique.loc[df_act_unique.target_chemblid.isin(dfm3.target_chemblid)] "
   ]
  },
  {
   "cell_type": "markdown",
   "metadata": {},
   "source": [
    "### Keep targets if tested in at least 2 documents"
   ]
  },
  {
   "cell_type": "code",
   "execution_count": 31,
   "metadata": {},
   "outputs": [],
   "source": [
    "dfl3 = pd.DataFrame(df_act_unique2.groupby(['target_chemblid'])['doc_id'].nunique())\n",
    "dfl4 = dfl3[dfl3['doc_id'] >= 2].reset_index()"
   ]
  },
  {
   "cell_type": "code",
   "execution_count": 32,
   "metadata": {},
   "outputs": [],
   "source": [
    "df_act_unique3 = df_act_unique2.loc[df_act_unique2.target_chemblid.isin(dfl4.target_chemblid)]"
   ]
  },
  {
   "cell_type": "markdown",
   "metadata": {},
   "source": [
    "#### Count how many actives/inactives per targets "
   ]
  },
  {
   "cell_type": "code",
   "execution_count": 33,
   "metadata": {},
   "outputs": [],
   "source": [
    "df_act_unique3_count = df_act_unique3.groupby(['target_chemblid', 'target_class', 'activity_class'])['usmiles'].count().reset_index()"
   ]
  },
  {
   "cell_type": "code",
   "execution_count": 34,
   "metadata": {},
   "outputs": [
    {
     "data": {
      "text/plain": [
       "834"
      ]
     },
     "execution_count": 34,
     "metadata": {},
     "output_type": "execute_result"
    }
   ],
   "source": [
    "df_act_unique3_count.target_chemblid.nunique()"
   ]
  },
  {
   "cell_type": "markdown",
   "metadata": {},
   "source": [
    "---"
   ]
  },
  {
   "cell_type": "markdown",
   "metadata": {},
   "source": [
    "## Collect more inactives\n",
    "Inactives will be identified starting from a set of records in which a '>' relation exists and by only considering the activity types used for the pchembl calculation. All the other filters are the same than used previously"
   ]
  },
  {
   "cell_type": "code",
   "execution_count": 51,
   "metadata": {},
   "outputs": [],
   "source": [
    "sql = '''\n",
    "SELECT a.doc_id\n",
    "    , h.year\n",
    "    , a.standard_value\n",
    "    , e.canonical_smiles\n",
    "    , c.chembl_id as mol_chemblid\n",
    "    , g.chembl_id as target_chemblid\n",
    "    , g.pref_name\n",
    "    , g.target_type\n",
    "FROM\n",
    "  CHEMBL_23.ACTIVITIES a JOIN CHEMBL_23.MOLECULE_HIERARCHY b ON a.MOLREGNO = b.MOLREGNO\n",
    "  JOIN CHEMBL_23.MOLECULE_DICTIONARY c ON b.PARENT_MOLREGNO = c.MOLREGNO\n",
    "  JOIN CHEMBL_23.COMPOUND_PROPERTIES d ON b.PARENT_MOLREGNO = d.MOLREGNO\n",
    "  JOIN CHEMBL_23.COMPOUND_STRUCTURES e ON b.PARENT_MOLREGNO = e.MOLREGNO\n",
    "  JOIN CHEMBL_23.ASSAYS f ON a.ASSAY_ID = f.ASSAY_ID\n",
    "  JOIN CHEMBL_23.TARGET_DICTIONARY g ON f.TID = g.TID\n",
    "  JOIN CHEMBL_23.DOCS h ON a.DOC_ID = h.DOC_ID\n",
    "WHERE\n",
    "  g.chembl_id IN {} -- consider only inactive compounds for proteins already selected\n",
    "  AND a.PCHEMBL_VALUE IS null\n",
    "  AND a.standard_value IS NOT null\n",
    "  AND a.standard_type IN ('IC50', 'EC50', 'XC50', 'AC50', 'Ki', 'Kd', 'Potency') -- same as for pchembl_value\n",
    "  AND a.standard_units = 'nM'\n",
    "  AND a.standard_relation = '>'\n",
    "  AND (a.POTENTIAL_DUPLICATE = 0 OR a.POTENTIAL_DUPLICATE IS NULL)\n",
    "  AND a.DATA_VALIDITY_COMMENT IS NULL\n",
    "  AND (\n",
    "  (f.CONFIDENCE_SCORE = 9 AND g.TARGET_TYPE = 'SINGLE PROTEIN')\n",
    "  OR\n",
    "  (f.CONFIDENCE_SCORE = 7 AND g.TARGET_TYPE = 'PROTEIN COMPLEX')\n",
    "  )\n",
    "  AND f.src_id = 1\n",
    "  AND (NOT (a.ACTIVITY_COMMENT LIKE 'inconclusive' OR a.activity_comment LIKE 'undetermined')\n",
    "      OR a.ACTIVITY_COMMENT IS NULL)\n",
    "  AND d.PSA IS NOT NULL -- if this descriptor cannot be calculated, it is usually a signal that the molecule does not suit for fingerprint calculation\n",
    "'''\n",
    "\n",
    "df_inactives = pd.read_sql(sql.format(tuple(df_act_unique3.target_chemblid.unique())), engine)"
   ]
  },
  {
   "cell_type": "markdown",
   "metadata": {},
   "source": [
    "#### Easier to work with a pchembl like value "
   ]
  },
  {
   "cell_type": "code",
   "execution_count": 55,
   "metadata": {},
   "outputs": [],
   "source": [
    "df_inactives['pchembl_value'] = df_inactives.standard_value.apply(lambda x: -np.log10(x*np.power(10, -9.0)))"
   ]
  },
  {
   "cell_type": "markdown",
   "metadata": {},
   "source": [
    "#### Keep the lowest pchembl-value"
   ]
  },
  {
   "cell_type": "code",
   "execution_count": 57,
   "metadata": {},
   "outputs": [],
   "source": [
    "df_inactives = df_inactives.sort_values('pchembl_value', ascending = True)\n",
    "df_inactives = df_inactives.drop_duplicates(subset=['mol_chemblid', 'target_chemblid'], keep='first')"
   ]
  },
  {
   "cell_type": "markdown",
   "metadata": {},
   "source": [
    "### Split activities and molecule structures "
   ]
  },
  {
   "cell_type": "code",
   "execution_count": 58,
   "metadata": {},
   "outputs": [],
   "source": [
    "df_mol_inactive = df_inactives[['mol_chemblid', 'canonical_smiles']].drop_duplicates()"
   ]
  },
  {
   "cell_type": "code",
   "execution_count": 71,
   "metadata": {},
   "outputs": [],
   "source": [
    "df_act_inactive = df_inactives[['doc_id', 'year', 'pchembl_value', 'mol_chemblid', 'target_chemblid', 'pref_name', 'target_type']]"
   ]
  },
  {
   "cell_type": "markdown",
   "metadata": {},
   "source": [
    "### Generate stereo free smiles (USMILES) <br>\n",
    "Stereochenistry is an aspect of the molecule very important. Indeed, for a given chiral molecule, one stereoisomer might be a potent inhibitor when the other one is completly inactive.<br>\n",
    "However, the morgan fingerprint does not take into account this property of the molecules. A flag can be activated but a quick analysis shows that the results are not correct.<br>\n",
    "Therefore, for this work, two stereoisomers are considered as the same molecule"
   ]
  },
  {
   "cell_type": "code",
   "execution_count": 72,
   "metadata": {},
   "outputs": [
    {
     "name": "stdout",
     "output_type": "stream",
     "text": [
      "Molecules RDKIT cannot proceed: 0\n",
      "Molcules to generate usmiles: 46244\n",
      "Fail to generate usmiles: 0\n"
     ]
    }
   ],
   "source": [
    "df_mol_inactive, failed_inactive1, failed_inactive2 = usmiles(df_mol_inactive, 'canonical_smiles')"
   ]
  },
  {
   "cell_type": "markdown",
   "metadata": {},
   "source": [
    "### Distinguish really inactive compounds using IDG thresholds<br>"
   ]
  },
  {
   "cell_type": "code",
   "execution_count": 73,
   "metadata": {
    "scrolled": false
   },
   "outputs": [
    {
     "data": {
      "text/plain": [
       "(72579, 7)"
      ]
     },
     "execution_count": 73,
     "metadata": {},
     "output_type": "execute_result"
    }
   ],
   "source": [
    "df_act_inactive.shape"
   ]
  },
  {
   "cell_type": "code",
   "execution_count": 74,
   "metadata": {},
   "outputs": [],
   "source": [
    "df_act_inactive = df_act_inactive.merge(df_mol_inactive[['mol_chemblid', 'usmiles']], on = 'mol_chemblid')"
   ]
  },
  {
   "cell_type": "code",
   "execution_count": 77,
   "metadata": {},
   "outputs": [],
   "source": [
    "df_act_inactive = df_act_inactive.merge(df_class[['target_chemblid', 'target_class', 'organism']], on = 'target_chemblid')"
   ]
  },
  {
   "cell_type": "code",
   "execution_count": 80,
   "metadata": {},
   "outputs": [],
   "source": [
    "df_act_inactive = df_act_inactive.merge(target_active_threshold, on='target_class', how='left' ).fillna(float(target_active_threshold.loc[target_active_threshold.target_class == 'Others']['activity_threshold']))"
   ]
  },
  {
   "cell_type": "code",
   "execution_count": 81,
   "metadata": {},
   "outputs": [],
   "source": [
    "df_act_inactive['activity_class'] = np.where(df_act_inactive['pchembl_value'] >= df_act_inactive['activity_threshold'], 'active', 'inactive')"
   ]
  },
  {
   "cell_type": "markdown",
   "metadata": {},
   "source": [
    "#### Few activities are classified actives but don't forget because of the '>' relations, they cannot be considered as active here"
   ]
  },
  {
   "cell_type": "code",
   "execution_count": 82,
   "metadata": {},
   "outputs": [
    {
     "data": {
      "text/plain": [
       "(5326, 12)"
      ]
     },
     "execution_count": 82,
     "metadata": {},
     "output_type": "execute_result"
    }
   ],
   "source": [
    "df_act_inactive.loc[df_act_inactive.activity_class == 'active'].shape"
   ]
  },
  {
   "cell_type": "code",
   "execution_count": 83,
   "metadata": {},
   "outputs": [
    {
     "data": {
      "text/plain": [
       "(67253, 12)"
      ]
     },
     "execution_count": 83,
     "metadata": {},
     "output_type": "execute_result"
    }
   ],
   "source": [
    "df_act_inactive.loc[df_act_inactive.activity_class == 'inactive'].shape"
   ]
  },
  {
   "cell_type": "code",
   "execution_count": 84,
   "metadata": {},
   "outputs": [],
   "source": [
    "df_act_inactive_sure = df_act_inactive.loc[df_act_inactive.activity_class == 'inactive']"
   ]
  },
  {
   "cell_type": "code",
   "execution_count": 86,
   "metadata": {},
   "outputs": [],
   "source": [
    "df_act_inactive_kept = df_act_inactive_sure.loc[df_act_inactive_sure.target_chemblid.isin(df_act_unique3.target_chemblid)]"
   ]
  },
  {
   "cell_type": "markdown",
   "metadata": {},
   "source": [
    "## Now merge active/inactive set with inactive set<br>\n",
    "For the active/inactive set, we consider only the version where there are enough actives.\n",
    "See it helps collecting more inactives"
   ]
  },
  {
   "cell_type": "code",
   "execution_count": 89,
   "metadata": {},
   "outputs": [],
   "source": [
    "df_merged = pd.concat([df_act_unique3[['target_chemblid', 'pref_name', 'usmiles', 'doc_id', 'year', 'target_class', 'target_type', 'organism', 'activity_class', 'activity_threshold']], df_act_inactive_kept[['target_chemblid', 'pref_name', 'usmiles', 'doc_id', 'year', 'target_class', 'target_type', 'organism', 'activity_class', 'activity_threshold']]]).sort_values('activity_class')"
   ]
  },
  {
   "cell_type": "markdown",
   "metadata": {},
   "source": [
    "#### Drop duplicates keeping the first occurence\n",
    "That way, if a protein-molecule pair is both classified active and inactive, only keep active which was determined more precisely (pchembl_value vs '>' relation) "
   ]
  },
  {
   "cell_type": "code",
   "execution_count": 91,
   "metadata": {},
   "outputs": [],
   "source": [
    "df_merged = df_merged.drop_duplicates(['target_chemblid', 'usmiles'], keep = 'first')"
   ]
  },
  {
   "cell_type": "markdown",
   "metadata": {},
   "source": [
    "#### Check that we still have the same number of proteins with enough actives for modelling."
   ]
  },
  {
   "cell_type": "code",
   "execution_count": 93,
   "metadata": {},
   "outputs": [],
   "source": [
    "df_merged_count = df_merged.groupby(['target_chemblid', 'activity_class', 'target_class'])['usmiles'].count().reset_index()"
   ]
  },
  {
   "cell_type": "markdown",
   "metadata": {},
   "source": [
    "### For inactives, let's consider it 30 of them are enough for modelling\n",
    "### Therefore, each QSAR model will be built with at least 70 disctincts compounds (40 actives + 30 inactives)"
   ]
  },
  {
   "cell_type": "code",
   "execution_count": 97,
   "metadata": {
    "scrolled": true
   },
   "outputs": [],
   "source": [
    "df_merged = df_merged.loc[df_merged.target_chemblid.isin(df_merged_count.loc[(df_merged_count.activity_class == 'inactive') & (df_merged_count.usmiles >= 30)]['target_chemblid'].unique())]"
   ]
  },
  {
   "cell_type": "markdown",
   "metadata": {},
   "source": [
    "---"
   ]
  },
  {
   "cell_type": "markdown",
   "metadata": {},
   "source": [
    "## For protein that could not match the selection criteria, let's see if we can use a 6.5 activity threshold  to get them back"
   ]
  },
  {
   "cell_type": "markdown",
   "metadata": {},
   "source": [
    "#### Identifiy these proteins"
   ]
  },
  {
   "cell_type": "code",
   "execution_count": 98,
   "metadata": {},
   "outputs": [],
   "source": [
    "df_not_selected = df_act_unique.loc[~df_act_unique.target_chemblid.isin(df_merged.target_chemblid)].drop(['activity_threshold','activity_class'], axis = 1)"
   ]
  },
  {
   "cell_type": "code",
   "execution_count": 101,
   "metadata": {},
   "outputs": [],
   "source": [
    "df_not_selected['activity_threshold'] = 6.5"
   ]
  },
  {
   "cell_type": "code",
   "execution_count": 102,
   "metadata": {},
   "outputs": [],
   "source": [
    "df_not_selected['activity_class'] = np.where(df_not_selected['pchembl_median'] >= df_not_selected['activity_threshold'], 'active', 'inactive')"
   ]
  },
  {
   "cell_type": "markdown",
   "metadata": {},
   "source": [
    "### Reperform the selection on this subset"
   ]
  },
  {
   "cell_type": "code",
   "execution_count": 104,
   "metadata": {},
   "outputs": [],
   "source": [
    "### Remove targets if they have less than 40 actives\n",
    "\n",
    "dfm2 = pd.DataFrame(df_not_selected.groupby(['target_chemblid', 'activity_class'])['usmiles'].nunique()).reset_index()\n",
    "\n",
    "dfm3 = dfm2[(dfm2['usmiles'] >= 40) & (dfm2['activity_class']=='active')].reset_index()\n",
    "\n",
    "df_not_selected2 = df_not_selected.loc[df_not_selected.target_chemblid.isin(dfm3.target_chemblid)] \n",
    "\n",
    "### Keep targets if tested in at least 2 documents\n",
    "\n",
    "dfl3 = pd.DataFrame(df_not_selected2.groupby(['target_chemblid'])['doc_id'].nunique())\n",
    "dfl4 = dfl3[dfl3['doc_id'] >= 2].reset_index()\n",
    "\n",
    "df_not_selected3 = df_not_selected2.loc[df_not_selected2.target_chemblid.isin(dfl4.target_chemblid)]\n",
    "\n",
    "\n",
    "#### Count how many actives/inactives per targets \n",
    "\n",
    "df_not_selected3_count = df_not_selected3.groupby(['target_chemblid', 'target_class', 'activity_class'])['usmiles'].count().reset_index()"
   ]
  },
  {
   "cell_type": "markdown",
   "metadata": {},
   "source": [
    "### Add the inactive set for these proteins and see if more can be selected "
   ]
  },
  {
   "cell_type": "code",
   "execution_count": 106,
   "metadata": {},
   "outputs": [],
   "source": [
    "df_inactive_not_selected = df_act_inactive.loc[df_act_inactive.target_chemblid.isin(df_not_selected3.target_chemblid)].drop(['activity_threshold','activity_class'], axis = 1)"
   ]
  },
  {
   "cell_type": "code",
   "execution_count": 109,
   "metadata": {},
   "outputs": [],
   "source": [
    "df_inactive_not_selected['activity_threshold'] = 6.5\n",
    "\n",
    "df_inactive_not_selected['activity_class'] = np.where(df_inactive_not_selected['pchembl_value'] >= df_inactive_not_selected['activity_threshold'], 'active', 'inactive')"
   ]
  },
  {
   "cell_type": "code",
   "execution_count": 110,
   "metadata": {},
   "outputs": [],
   "source": [
    "df_act_inactive_sure2 = df_inactive_not_selected.loc[df_inactive_not_selected.activity_class == 'inactive']"
   ]
  },
  {
   "cell_type": "markdown",
   "metadata": {},
   "source": [
    "### Merge the two previous sets"
   ]
  },
  {
   "cell_type": "code",
   "execution_count": 112,
   "metadata": {},
   "outputs": [],
   "source": [
    "df_not_selected_merged = pd.concat([df_not_selected3[['target_chemblid', 'pref_name', 'target_type', 'organism', 'usmiles', 'doc_id', 'year', 'target_class', 'activity_class', 'activity_threshold']], df_act_inactive_sure2[['target_chemblid', 'pref_name', 'target_type', 'organism', 'usmiles', 'doc_id', 'year', 'target_class', 'activity_class', 'activity_threshold']]]).sort_values('activity_class')"
   ]
  },
  {
   "cell_type": "markdown",
   "metadata": {},
   "source": [
    "#### Drop duplicates keeping the first occurence\n",
    "That way, if a protein-molecule pair is both classified active and inactive, only keep active which was determined more precisely (pchembl_value vs '>' relation) "
   ]
  },
  {
   "cell_type": "code",
   "execution_count": 114,
   "metadata": {},
   "outputs": [],
   "source": [
    "df_not_selected_merged = df_not_selected_merged.drop_duplicates(['target_chemblid', 'usmiles'], keep = 'first')"
   ]
  },
  {
   "cell_type": "markdown",
   "metadata": {},
   "source": [
    "#### Check that we still have the same number of proteins with enough actives for modelling."
   ]
  },
  {
   "cell_type": "code",
   "execution_count": 116,
   "metadata": {},
   "outputs": [],
   "source": [
    "df_not_selected_merged_count = df_not_selected_merged.groupby(['target_chemblid', 'activity_class', 'target_class'])['usmiles'].count().reset_index()"
   ]
  },
  {
   "cell_type": "markdown",
   "metadata": {},
   "source": [
    "### For inactives, let's consider it 30 of them are enough for modelling\n",
    "### Therefore, each QSAR model will be built with at least 70 disctincts compounds (40 actives + 30 inactives)"
   ]
  },
  {
   "cell_type": "code",
   "execution_count": 119,
   "metadata": {
    "scrolled": true
   },
   "outputs": [],
   "source": [
    "df_not_selected_merged = df_not_selected_merged.loc[df_not_selected_merged.target_chemblid.isin(df_not_selected_merged_count.loc[(df_not_selected_merged_count.activity_class == 'inactive') & (df_not_selected_merged_count.usmiles >= 30)]['target_chemblid'].unique())]"
   ]
  },
  {
   "cell_type": "markdown",
   "metadata": {},
   "source": [
    "---"
   ]
  },
  {
   "cell_type": "markdown",
   "metadata": {},
   "source": [
    "## Finally, merge the result of the two selection "
   ]
  },
  {
   "cell_type": "code",
   "execution_count": 120,
   "metadata": {},
   "outputs": [
    {
     "name": "stdout",
     "output_type": "stream",
     "text": [
      "(0, 10)\n",
      "(0, 10)\n"
     ]
    }
   ],
   "source": [
    "#### Do some sanity check\n",
    "print(df_merged.loc[df_merged.target_chemblid.isin(df_not_selected_merged.target_chemblid.unique())].shape)\n",
    "print(df_not_selected_merged.loc[df_not_selected_merged.target_chemblid.isin(df_merged.target_chemblid.unique())].shape)"
   ]
  },
  {
   "cell_type": "code",
   "execution_count": 121,
   "metadata": {},
   "outputs": [
    {
     "name": "stderr",
     "output_type": "stream",
     "text": [
      "/Users/nbosc/anaconda3/lib/python3.6/site-packages/ipykernel_launcher.py:1: FutureWarning: Sorting because non-concatenation axis is not aligned. A future version\n",
      "of pandas will change to not sort by default.\n",
      "\n",
      "To accept the future behavior, pass 'sort=False'.\n",
      "\n",
      "To retain the current behavior and silence the warning, pass 'sort=True'.\n",
      "\n",
      "  \"\"\"Entry point for launching an IPython kernel.\n"
     ]
    }
   ],
   "source": [
    "df_selection_final = pd.concat([df_merged, df_not_selected_merged])"
   ]
  },
  {
   "cell_type": "markdown",
   "metadata": {},
   "source": [
    "## Summary "
   ]
  },
  {
   "cell_type": "markdown",
   "metadata": {},
   "source": [
    "### Check threshold effect on protein class numbers"
   ]
  },
  {
   "cell_type": "code",
   "execution_count": 142,
   "metadata": {},
   "outputs": [
    {
     "data": {
      "text/html": [
       "<table border=\"1\" class=\"dataframe\">\n",
       "  <thead>\n",
       "    <tr style=\"text-align: right;\">\n",
       "      <th></th>\n",
       "      <th>target_class</th>\n",
       "      <th>before_selection</th>\n",
       "      <th>activity_threshold</th>\n",
       "      <th>40_actives</th>\n",
       "      <th>2_documents</th>\n",
       "      <th>40_actives_30_inactives</th>\n",
       "      <th>final_selection</th>\n",
       "      <th>fraction_of_proteins_not_selected</th>\n",
       "      <th>protein_complexes</th>\n",
       "    </tr>\n",
       "  </thead>\n",
       "  <tbody>\n",
       "    <tr>\n",
       "      <th>0</th>\n",
       "      <td>Enzyme > Kinase > Protein Kinase</td>\n",
       "      <td>519</td>\n",
       "      <td>7.5</td>\n",
       "      <td>79</td>\n",
       "      <td>79</td>\n",
       "      <td>77</td>\n",
       "      <td>117</td>\n",
       "      <td>0.774566</td>\n",
       "      <td>9</td>\n",
       "    </tr>\n",
       "    <tr>\n",
       "      <th>1</th>\n",
       "      <td>Membrane receptor > Family A G protein-coupled receptor</td>\n",
       "      <td>494</td>\n",
       "      <td>7.0</td>\n",
       "      <td>186</td>\n",
       "      <td>186</td>\n",
       "      <td>176</td>\n",
       "      <td>195</td>\n",
       "      <td>0.605263</td>\n",
       "      <td>0</td>\n",
       "    </tr>\n",
       "    <tr>\n",
       "      <th>2</th>\n",
       "      <td>Membrane receptor > Family B G protein-coupled receptor</td>\n",
       "      <td>24</td>\n",
       "      <td>7.0</td>\n",
       "      <td>5</td>\n",
       "      <td>5</td>\n",
       "      <td>4</td>\n",
       "      <td>4</td>\n",
       "      <td>0.833333</td>\n",
       "      <td>0</td>\n",
       "    </tr>\n",
       "    <tr>\n",
       "      <th>3</th>\n",
       "      <td>Membrane receptor > Family C G protein-coupled receptor</td>\n",
       "      <td>25</td>\n",
       "      <td>7.0</td>\n",
       "      <td>8</td>\n",
       "      <td>8</td>\n",
       "      <td>8</td>\n",
       "      <td>9</td>\n",
       "      <td>0.640000</td>\n",
       "      <td>0</td>\n",
       "    </tr>\n",
       "    <tr>\n",
       "      <th>4</th>\n",
       "      <td>Transcription factor > Nuclear receptor</td>\n",
       "      <td>91</td>\n",
       "      <td>7.0</td>\n",
       "      <td>21</td>\n",
       "      <td>21</td>\n",
       "      <td>21</td>\n",
       "      <td>25</td>\n",
       "      <td>0.725275</td>\n",
       "      <td>0</td>\n",
       "    </tr>\n",
       "    <tr>\n",
       "      <th>5</th>\n",
       "      <td>Ion channel > Ligand-gated ion channel</td>\n",
       "      <td>138</td>\n",
       "      <td>5.0</td>\n",
       "      <td>47</td>\n",
       "      <td>47</td>\n",
       "      <td>20</td>\n",
       "      <td>35</td>\n",
       "      <td>0.746377</td>\n",
       "      <td>19</td>\n",
       "    </tr>\n",
       "    <tr>\n",
       "      <th>6</th>\n",
       "      <td>Ion channel > Voltage-gated ion channel</td>\n",
       "      <td>98</td>\n",
       "      <td>5.0</td>\n",
       "      <td>34</td>\n",
       "      <td>33</td>\n",
       "      <td>13</td>\n",
       "      <td>20</td>\n",
       "      <td>0.795918</td>\n",
       "      <td>0</td>\n",
       "    </tr>\n",
       "    <tr>\n",
       "      <th>7</th>\n",
       "      <td>Ion channel > Other ion channel</td>\n",
       "      <td>11</td>\n",
       "      <td>5.0</td>\n",
       "      <td>5</td>\n",
       "      <td>5</td>\n",
       "      <td>5</td>\n",
       "      <td>5</td>\n",
       "      <td>0.545455</td>\n",
       "      <td>0</td>\n",
       "    </tr>\n",
       "    <tr>\n",
       "      <th>8</th>\n",
       "      <td>Others</td>\n",
       "      <td>2643</td>\n",
       "      <td>6.0</td>\n",
       "      <td>456</td>\n",
       "      <td>450</td>\n",
       "      <td>351</td>\n",
       "      <td>378</td>\n",
       "      <td>0.856981</td>\n",
       "      <td>19</td>\n",
       "    </tr>\n",
       "    <tr>\n",
       "      <th>9</th>\n",
       "      <td>Sum</td>\n",
       "      <td>4043</td>\n",
       "      <td>NaN</td>\n",
       "      <td>841</td>\n",
       "      <td>834</td>\n",
       "      <td>675</td>\n",
       "      <td>788</td>\n",
       "      <td>0.805095</td>\n",
       "      <td>47</td>\n",
       "    </tr>\n",
       "  </tbody>\n",
       "</table>"
      ],
      "text/plain": [
       "                                              target_class  before_selection  activity_threshold  40_actives  2_documents  40_actives_30_inactives  final_selection  fraction_of_proteins_not_selected  protein_complexes\n",
       "0                         Enzyme > Kinase > Protein Kinase               519                 7.5          79           79                       77              117                           0.774566                  9\n",
       "1  Membrane receptor > Family A G protein-coupled receptor               494                 7.0         186          186                      176              195                           0.605263                  0\n",
       "2  Membrane receptor > Family B G protein-coupled receptor                24                 7.0           5            5                        4                4                           0.833333                  0\n",
       "3  Membrane receptor > Family C G protein-coupled receptor                25                 7.0           8            8                        8                9                           0.640000                  0\n",
       "4                  Transcription factor > Nuclear receptor                91                 7.0          21           21                       21               25                           0.725275                  0\n",
       "5                   Ion channel > Ligand-gated ion channel               138                 5.0          47           47                       20               35                           0.746377                 19\n",
       "6                  Ion channel > Voltage-gated ion channel                98                 5.0          34           33                       13               20                           0.795918                  0\n",
       "7                          Ion channel > Other ion channel                11                 5.0           5            5                        5                5                           0.545455                  0\n",
       "8                                                   Others              2643                 6.0         456          450                      351              378                           0.856981                 19\n",
       "9                                                      Sum              4043                 NaN         841          834                      675              788                           0.805095                 47"
      ]
     },
     "execution_count": 142,
     "metadata": {},
     "output_type": "execute_result"
    }
   ],
   "source": [
    "summary = selected_prot_each_step(df_act_unique, df_act_unique2, df_act_unique3, df_merged, df_selection_final, target_active_threshold)\n",
    "summary"
   ]
  },
  {
   "cell_type": "code",
   "execution_count": 143,
   "metadata": {},
   "outputs": [],
   "source": [
    "summary.to_excel('protein_selection_summary.xlsx')"
   ]
  },
  {
   "cell_type": "markdown",
   "metadata": {},
   "source": [
    "### Some observations "
   ]
  },
  {
   "cell_type": "markdown",
   "metadata": {},
   "source": [
    "## Export the activity set"
   ]
  },
  {
   "cell_type": "code",
   "execution_count": 144,
   "metadata": {},
   "outputs": [],
   "source": [
    "df_selection_final.to_excel('dataset_ready.xlsx')"
   ]
  },
  {
   "cell_type": "markdown",
   "metadata": {},
   "source": [
    "## Create a file to summarise the target information"
   ]
  },
  {
   "cell_type": "code",
   "execution_count": 145,
   "metadata": {},
   "outputs": [],
   "source": [
    "tmp = df_selection_final.groupby(['target_chemblid', 'activity_class'])['doc_id'].count().reset_index().sort_values('doc_id').pivot(index='target_chemblid', columns='activity_class', values='doc_id').reset_index()\n",
    "df_selection_final[['target_chemblid', 'pref_name', 'target_class', 'organism', 'target_type', 'activity_threshold']].drop_duplicates().merge(tmp, on='target_chemblid').to_excel('modelled_protein_info.xlsx')"
   ]
  },
  {
   "cell_type": "markdown",
   "metadata": {},
   "source": [
    "## Finalise and export the set of compounds<br>\n",
    "Include molecule from the inactive set that are not already in the molecule set"
   ]
  },
  {
   "cell_type": "code",
   "execution_count": 146,
   "metadata": {},
   "outputs": [],
   "source": [
    "df_mols_kept = df_mols.loc[df_mols.usmiles.isin(df_selection_final.usmiles)]"
   ]
  },
  {
   "cell_type": "code",
   "execution_count": 147,
   "metadata": {},
   "outputs": [],
   "source": [
    "df_mol_inactive_kept = df_mol_inactive.loc[df_mol_inactive.usmiles.isin(df_selection_final.usmiles)]"
   ]
  },
  {
   "cell_type": "code",
   "execution_count": 148,
   "metadata": {},
   "outputs": [],
   "source": [
    "df_mols_all_kept = pd.concat([df_mols_kept, df_mol_inactive_kept])"
   ]
  },
  {
   "cell_type": "code",
   "execution_count": 149,
   "metadata": {},
   "outputs": [
    {
     "data": {
      "text/plain": [
       "(304405, 4)"
      ]
     },
     "execution_count": 149,
     "metadata": {},
     "output_type": "execute_result"
    }
   ],
   "source": [
    "df_mols_all_kept.shape"
   ]
  },
  {
   "cell_type": "markdown",
   "metadata": {},
   "source": [
    "#### Group molecules using stereo free SMILES"
   ]
  },
  {
   "cell_type": "code",
   "execution_count": 150,
   "metadata": {},
   "outputs": [],
   "source": [
    "def func(x):\n",
    "    names = {\n",
    "        'num_mols': x['mol_chemblid'].nunique()\n",
    "        , 'mol_ids': ', '.join(set(x['mol_chemblid']))\n",
    "    }\n",
    "    return(pd.Series(names, index = ['num_mols', 'mol_ids']))\n",
    "\n",
    "df_mols_all_kept_unique = df_mols_all_kept.groupby(['usmiles']).apply(func).reset_index()"
   ]
  },
  {
   "cell_type": "code",
   "execution_count": 151,
   "metadata": {},
   "outputs": [],
   "source": [
    "df_mols_all_kept_unique.to_excel('mol_inchi_for_modelling.xlsx')"
   ]
  },
  {
   "cell_type": "code",
   "execution_count": null,
   "metadata": {},
   "outputs": [],
   "source": []
  }
 ],
 "metadata": {
  "anaconda-cloud": {},
  "kernelspec": {
   "display_name": "Python 3",
   "language": "python",
   "name": "python3"
  },
  "language_info": {
   "codemirror_mode": {
    "name": "ipython",
    "version": 3
   },
   "file_extension": ".py",
   "mimetype": "text/x-python",
   "name": "python",
   "nbconvert_exporter": "python",
   "pygments_lexer": "ipython3",
   "version": "3.6.5"
  }
 },
 "nbformat": 4,
 "nbformat_minor": 1
}
