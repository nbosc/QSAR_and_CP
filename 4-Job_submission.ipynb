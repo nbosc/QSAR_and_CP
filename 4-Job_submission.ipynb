{
 "cells": [
  {
   "cell_type": "markdown",
   "metadata": {},
   "source": [
    "## Submit training jobs\n",
    "### To be more efficient, the model training run on our CPU cluster\n",
    "This scripts provides an example\n",
    "\n",
    "#### Notebook meant to be exported as .py"
   ]
  },
  {
   "cell_type": "markdown",
   "metadata": {},
   "source": [
    "### Arguments generated before are required in addition to script shown in notebook 5\n",
    "eg: python3.5 4-Job_submission_comparison.py /nfs/panda/chembl/nbosc/input_files /nfs/panda/chembl/nbosc/comp_results RF"
   ]
  },
  {
   "cell_type": "code",
   "execution_count": 1,
   "metadata": {},
   "outputs": [],
   "source": [
    "import os\n",
    "from sys import argv"
   ]
  },
  {
   "cell_type": "code",
   "execution_count": null,
   "metadata": {},
   "outputs": [],
   "source": [
    "if __name__ == '__main__':\n",
    "    ### input_dir is where are located the \n",
    "    path, input_dir, output_dir, method = argv\n",
    "    \n",
    "    if not os.path.exists(output_dir):\n",
    "        os.makedirs(output_dir)\n",
    "        \n",
    "    for each_dir in [item for item in os.listdir(input_dir) if not 'runtimes.csv' in item]:\n",
    "        df_prot_filename = input_dir+'/'+each_dir+'/'+each_dir+'.pkl'\n",
    "\n",
    "        command = 'bsub -M 10000 -R \"rusage[mem=10000]\" -n 6 -o job_output_comp python3.5 5-Modeling_QSAR_and_CP.py {} {} {} {}'.format(df_prot_filename, output_dir, each_dir, method)\n",
    "        #print(command)\n",
    "        os.system(command)"
   ]
  }
 ],
 "metadata": {
  "anaconda-cloud": {},
  "kernelspec": {
   "display_name": "Python 3",
   "language": "python",
   "name": "python3"
  },
  "language_info": {
   "codemirror_mode": {
    "name": "ipython",
    "version": 3
   },
   "file_extension": ".py",
   "mimetype": "text/x-python",
   "name": "python",
   "nbconvert_exporter": "python",
   "pygments_lexer": "ipython3",
   "version": "3.6.5"
  }
 },
 "nbformat": 4,
 "nbformat_minor": 2
}
